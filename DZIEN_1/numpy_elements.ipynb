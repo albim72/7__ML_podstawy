{
  "nbformat": 4,
  "nbformat_minor": 0,
  "metadata": {
    "colab": {
      "provenance": []
    },
    "kernelspec": {
      "name": "python3",
      "display_name": "Python 3"
    },
    "language_info": {
      "name": "python"
    }
  },
  "cells": [
    {
      "cell_type": "code",
      "execution_count": 1,
      "metadata": {
        "id": "fIkQ3-0WnQsg"
      },
      "outputs": [],
      "source": [
        "import numpy as np"
      ]
    },
    {
      "cell_type": "markdown",
      "source": [
        "Podstawy **NUMPY**"
      ],
      "metadata": {
        "id": "wNp3TI3pnwHM"
      }
    },
    {
      "cell_type": "code",
      "source": [
        "np.zeros(12)"
      ],
      "metadata": {
        "colab": {
          "base_uri": "https://localhost:8080/"
        },
        "id": "2ePhb5jPn5JH",
        "outputId": "5ad23559-9d0e-47d1-f7b5-632d646740dc"
      },
      "execution_count": 2,
      "outputs": [
        {
          "output_type": "execute_result",
          "data": {
            "text/plain": [
              "array([0., 0., 0., 0., 0., 0., 0., 0., 0., 0., 0., 0.])"
            ]
          },
          "metadata": {},
          "execution_count": 2
        }
      ]
    },
    {
      "cell_type": "code",
      "source": [
        "u = np.arange(1,89,3)\n",
        "u"
      ],
      "metadata": {
        "colab": {
          "base_uri": "https://localhost:8080/"
        },
        "id": "Ns0tG_1CoILo",
        "outputId": "eedadb8e-8b39-4bdb-9a69-eb0a85014954"
      },
      "execution_count": 3,
      "outputs": [
        {
          "output_type": "execute_result",
          "data": {
            "text/plain": [
              "array([ 1,  4,  7, 10, 13, 16, 19, 22, 25, 28, 31, 34, 37, 40, 43, 46, 49,\n",
              "       52, 55, 58, 61, 64, 67, 70, 73, 76, 79, 82, 85, 88])"
            ]
          },
          "metadata": {},
          "execution_count": 3
        }
      ]
    },
    {
      "cell_type": "code",
      "source": [
        "np.linspace(1,113,6)"
      ],
      "metadata": {
        "colab": {
          "base_uri": "https://localhost:8080/"
        },
        "id": "gTCSi0g1oV0R",
        "outputId": "e1121b6e-011f-410a-a696-c9beab65f707"
      },
      "execution_count": 6,
      "outputs": [
        {
          "output_type": "execute_result",
          "data": {
            "text/plain": [
              "array([  1. ,  23.4,  45.8,  68.2,  90.6, 113. ])"
            ]
          },
          "metadata": {},
          "execution_count": 6
        }
      ]
    },
    {
      "cell_type": "code",
      "source": [
        "np.array([1,2,3,4,5,9,11,34,58])"
      ],
      "metadata": {
        "colab": {
          "base_uri": "https://localhost:8080/"
        },
        "id": "PK5ismHUol6h",
        "outputId": "23c516a6-2192-4cc9-db62-6e433d440c88"
      },
      "execution_count": 7,
      "outputs": [
        {
          "output_type": "execute_result",
          "data": {
            "text/plain": [
              "array([ 1,  2,  3,  4,  5,  9, 11, 34, 58])"
            ]
          },
          "metadata": {},
          "execution_count": 7
        }
      ]
    },
    {
      "cell_type": "code",
      "source": [
        "print(type(u))"
      ],
      "metadata": {
        "colab": {
          "base_uri": "https://localhost:8080/"
        },
        "id": "z824H7MGowe-",
        "outputId": "9abd78d7-ee21-45cd-9e04-c2fb49c95789"
      },
      "execution_count": 8,
      "outputs": [
        {
          "output_type": "stream",
          "name": "stdout",
          "text": [
            "<class 'numpy.ndarray'>\n"
          ]
        }
      ]
    },
    {
      "cell_type": "code",
      "source": [
        "zw = [3,5,7,8,24]\n",
        "type(zw)"
      ],
      "metadata": {
        "colab": {
          "base_uri": "https://localhost:8080/"
        },
        "id": "A_RdJj6mo-xN",
        "outputId": "8cc95c98-8d6f-4395-c7b2-97c5e865024a"
      },
      "execution_count": 9,
      "outputs": [
        {
          "output_type": "execute_result",
          "data": {
            "text/plain": [
              "list"
            ]
          },
          "metadata": {},
          "execution_count": 9
        }
      ]
    },
    {
      "cell_type": "code",
      "source": [
        "nplist = np.array(zw)\n",
        "type(nplist)"
      ],
      "metadata": {
        "colab": {
          "base_uri": "https://localhost:8080/"
        },
        "id": "xU2UMo03pD7t",
        "outputId": "f76eb314-10ab-46d4-88b0-08997bdda3dc"
      },
      "execution_count": 10,
      "outputs": [
        {
          "output_type": "execute_result",
          "data": {
            "text/plain": [
              "numpy.ndarray"
            ]
          },
          "metadata": {},
          "execution_count": 10
        }
      ]
    },
    {
      "cell_type": "code",
      "source": [
        "l = list(nplist)\n",
        "l"
      ],
      "metadata": {
        "colab": {
          "base_uri": "https://localhost:8080/"
        },
        "id": "t3-FY2g8pM0Q",
        "outputId": "2edb63c7-4858-42ce-b18e-5f61dabb6450"
      },
      "execution_count": 15,
      "outputs": [
        {
          "output_type": "execute_result",
          "data": {
            "text/plain": [
              "[3, 5, 7, 8, 24]"
            ]
          },
          "metadata": {},
          "execution_count": 15
        }
      ]
    },
    {
      "cell_type": "code",
      "source": [
        "l.append(89)"
      ],
      "metadata": {
        "id": "pjjQgXaLpWL5"
      },
      "execution_count": 17,
      "outputs": []
    },
    {
      "cell_type": "code",
      "source": [
        "l1 = [2,4,6,9]\n",
        "l2 = [5,6,78,9,13]\n",
        "l3 = [118,78,15]\n",
        "\n",
        "l1 = l1+l2+l3\n",
        "l1"
      ],
      "metadata": {
        "colab": {
          "base_uri": "https://localhost:8080/"
        },
        "id": "9ktenXz_pmL1",
        "outputId": "97cbd704-19cd-46d5-b1e1-7ff393febed1"
      },
      "execution_count": 18,
      "outputs": [
        {
          "output_type": "execute_result",
          "data": {
            "text/plain": [
              "[2, 4, 6, 9, 5, 6, 78, 9, 13, 118, 78, 15]"
            ]
          },
          "metadata": {},
          "execution_count": 18
        }
      ]
    },
    {
      "cell_type": "code",
      "source": [
        "a = np.array(l1)\n",
        "b = np.array(l2)\n",
        "c = np.array(l3)"
      ],
      "metadata": {
        "id": "P8AtqE88p5SD"
      },
      "execution_count": 19,
      "outputs": []
    },
    {
      "cell_type": "code",
      "source": [
        "# a = a+b+c\n",
        "# a"
      ],
      "metadata": {
        "id": "4qz4KW6pp_8Z"
      },
      "execution_count": 22,
      "outputs": []
    },
    {
      "cell_type": "code",
      "source": [
        "a = np.concatenate((a,b,c))\n",
        "a"
      ],
      "metadata": {
        "colab": {
          "base_uri": "https://localhost:8080/"
        },
        "id": "_Sgu5MO2rX6K",
        "outputId": "d89fce71-6c19-4f02-eeb7-9ba7b20d3284"
      },
      "execution_count": 23,
      "outputs": [
        {
          "output_type": "execute_result",
          "data": {
            "text/plain": [
              "array([  2,   4,   6,   9,   5,   6,  78,   9,  13, 118,  78,  15,   5,\n",
              "         6,  78,   9,  13, 118,  78,  15])"
            ]
          },
          "metadata": {},
          "execution_count": 23
        }
      ]
    },
    {
      "cell_type": "code",
      "source": [
        "zw1 = [[1,2],[8,9]]\n",
        "zw1"
      ],
      "metadata": {
        "colab": {
          "base_uri": "https://localhost:8080/"
        },
        "id": "0phV2PB4roCo",
        "outputId": "39e92399-3bd0-417d-befc-2bdec45a473d"
      },
      "execution_count": 24,
      "outputs": [
        {
          "output_type": "execute_result",
          "data": {
            "text/plain": [
              "[[1, 2], [8, 9]]"
            ]
          },
          "metadata": {},
          "execution_count": 24
        }
      ]
    },
    {
      "cell_type": "code",
      "source": [
        "zw1[0]"
      ],
      "metadata": {
        "colab": {
          "base_uri": "https://localhost:8080/"
        },
        "id": "2rmmtYsSrvlq",
        "outputId": "cc40339e-ca27-40d7-c4b4-ca6b5e9207ec"
      },
      "execution_count": 25,
      "outputs": [
        {
          "output_type": "execute_result",
          "data": {
            "text/plain": [
              "[1, 2]"
            ]
          },
          "metadata": {},
          "execution_count": 25
        }
      ]
    },
    {
      "cell_type": "code",
      "source": [
        "zw1[0][1]"
      ],
      "metadata": {
        "colab": {
          "base_uri": "https://localhost:8080/"
        },
        "id": "Eh_Nq1YDr2QN",
        "outputId": "980a4db3-d534-4978-8bbd-e5b58079a799"
      },
      "execution_count": 26,
      "outputs": [
        {
          "output_type": "execute_result",
          "data": {
            "text/plain": [
              "2"
            ]
          },
          "metadata": {},
          "execution_count": 26
        }
      ]
    },
    {
      "cell_type": "code",
      "source": [
        "np1 = np.array(zw1)\n",
        "np1"
      ],
      "metadata": {
        "colab": {
          "base_uri": "https://localhost:8080/"
        },
        "id": "ROxzludPr5DZ",
        "outputId": "8e090095-a01e-487f-ed4f-3855920edee6"
      },
      "execution_count": 28,
      "outputs": [
        {
          "output_type": "execute_result",
          "data": {
            "text/plain": [
              "array([[1, 2],\n",
              "       [8, 9]])"
            ]
          },
          "metadata": {},
          "execution_count": 28
        }
      ]
    },
    {
      "cell_type": "code",
      "source": [
        "np1[0,1]"
      ],
      "metadata": {
        "colab": {
          "base_uri": "https://localhost:8080/"
        },
        "id": "9P5FigYnsGkE",
        "outputId": "a2844f67-1953-4176-8160-f026c4a36211"
      },
      "execution_count": 29,
      "outputs": [
        {
          "output_type": "execute_result",
          "data": {
            "text/plain": [
              "2"
            ]
          },
          "metadata": {},
          "execution_count": 29
        }
      ]
    },
    {
      "cell_type": "code",
      "source": [
        "x = np.array([[3,4],[6,8]])\n",
        "y = np.array([[7,11],[19,3]])"
      ],
      "metadata": {
        "id": "feTYT0Fasc2S"
      },
      "execution_count": 30,
      "outputs": []
    },
    {
      "cell_type": "code",
      "source": [
        "p = np.concatenate((x,y),axis=1)\n",
        "p"
      ],
      "metadata": {
        "colab": {
          "base_uri": "https://localhost:8080/"
        },
        "id": "R6Qh74SesoQ5",
        "outputId": "17196f7e-e536-4afe-e8e0-2f74df9179d8"
      },
      "execution_count": 33,
      "outputs": [
        {
          "output_type": "execute_result",
          "data": {
            "text/plain": [
              "array([[ 3,  4,  7, 11],\n",
              "       [ 6,  8, 19,  3]])"
            ]
          },
          "metadata": {},
          "execution_count": 33
        }
      ]
    },
    {
      "cell_type": "code",
      "source": [
        "prosta = np.arange(12)\n",
        "prosta"
      ],
      "metadata": {
        "colab": {
          "base_uri": "https://localhost:8080/"
        },
        "id": "C85Iq9Kes__j",
        "outputId": "a395bac1-a5dc-4cb2-9e7b-660a2207946e"
      },
      "execution_count": 34,
      "outputs": [
        {
          "output_type": "execute_result",
          "data": {
            "text/plain": [
              "array([ 0,  1,  2,  3,  4,  5,  6,  7,  8,  9, 10, 11])"
            ]
          },
          "metadata": {},
          "execution_count": 34
        }
      ]
    },
    {
      "cell_type": "code",
      "source": [
        "fp = np.reshape(prosta,(2,6))\n",
        "fp"
      ],
      "metadata": {
        "colab": {
          "base_uri": "https://localhost:8080/"
        },
        "id": "dMyKvHZ_tKSz",
        "outputId": "3f28315b-6729-458c-8a55-b158638de8c7"
      },
      "execution_count": 41,
      "outputs": [
        {
          "output_type": "execute_result",
          "data": {
            "text/plain": [
              "array([[ 0,  1,  2,  3,  4,  5],\n",
              "       [ 6,  7,  8,  9, 10, 11]])"
            ]
          },
          "metadata": {},
          "execution_count": 41
        }
      ]
    },
    {
      "cell_type": "code",
      "source": [
        "macierz = np.array([[1,2,3,4],[9,10,11,12],[35,98,74,101]])\n",
        "macierz"
      ],
      "metadata": {
        "colab": {
          "base_uri": "https://localhost:8080/"
        },
        "id": "drGgx19ktsRm",
        "outputId": "d4e9189c-5f25-40d9-9fe0-cd7321adcd93"
      },
      "execution_count": 42,
      "outputs": [
        {
          "output_type": "execute_result",
          "data": {
            "text/plain": [
              "array([[  1,   2,   3,   4],\n",
              "       [  9,  10,  11,  12],\n",
              "       [ 35,  98,  74, 101]])"
            ]
          },
          "metadata": {},
          "execution_count": 42
        }
      ]
    },
    {
      "cell_type": "code",
      "source": [
        "macierz[2,1]"
      ],
      "metadata": {
        "colab": {
          "base_uri": "https://localhost:8080/"
        },
        "id": "ZehyHD6Rt_ca",
        "outputId": "e64953c9-293f-4eb8-9631-3937f00a0bdd"
      },
      "execution_count": 43,
      "outputs": [
        {
          "output_type": "execute_result",
          "data": {
            "text/plain": [
              "98"
            ]
          },
          "metadata": {},
          "execution_count": 43
        }
      ]
    },
    {
      "cell_type": "code",
      "source": [
        "macierz[2][1]"
      ],
      "metadata": {
        "colab": {
          "base_uri": "https://localhost:8080/"
        },
        "id": "HtP3lFS5uI_g",
        "outputId": "3c53c9dd-cc12-4719-b1a9-419ccdc77ece"
      },
      "execution_count": 44,
      "outputs": [
        {
          "output_type": "execute_result",
          "data": {
            "text/plain": [
              "98"
            ]
          },
          "metadata": {},
          "execution_count": 44
        }
      ]
    },
    {
      "cell_type": "code",
      "source": [
        "macierz[macierz>5]"
      ],
      "metadata": {
        "colab": {
          "base_uri": "https://localhost:8080/"
        },
        "id": "vB2Mvqf2uLnJ",
        "outputId": "fadaa33a-faa7-478b-b269-1130b9f76105"
      },
      "execution_count": 45,
      "outputs": [
        {
          "output_type": "execute_result",
          "data": {
            "text/plain": [
              "array([  9,  10,  11,  12,  35,  98,  74, 101])"
            ]
          },
          "metadata": {},
          "execution_count": 45
        }
      ]
    },
    {
      "cell_type": "code",
      "source": [
        "cv = macierz[(macierz>5) & (macierz<21)]\n",
        "cv"
      ],
      "metadata": {
        "colab": {
          "base_uri": "https://localhost:8080/"
        },
        "id": "9kHStRhYuXi0",
        "outputId": "e5c5177b-fc14-4b52-bccd-7e68ceef5df5"
      },
      "execution_count": 47,
      "outputs": [
        {
          "output_type": "execute_result",
          "data": {
            "text/plain": [
              "array([ 9, 10, 11, 12])"
            ]
          },
          "metadata": {},
          "execution_count": 47
        }
      ]
    },
    {
      "cell_type": "code",
      "source": [
        "parz = (macierz%2==0)\n",
        "macierz[parz]"
      ],
      "metadata": {
        "colab": {
          "base_uri": "https://localhost:8080/"
        },
        "id": "PeOcZtLlusfv",
        "outputId": "6d07a99d-4cae-4d6d-f988-906dc26bbec1"
      },
      "execution_count": 48,
      "outputs": [
        {
          "output_type": "execute_result",
          "data": {
            "text/plain": [
              "array([ 2,  4, 10, 12, 98, 74])"
            ]
          },
          "metadata": {},
          "execution_count": 48
        }
      ]
    },
    {
      "cell_type": "code",
      "source": [
        "dane = np.array([1,3,8])\n",
        "one = np.ones(3,dtype=int)\n",
        "tw = np.array([2,2,3])"
      ],
      "metadata": {
        "id": "D8CrHn0bu7sE"
      },
      "execution_count": 49,
      "outputs": []
    },
    {
      "cell_type": "code",
      "source": [
        "dane+one"
      ],
      "metadata": {
        "colab": {
          "base_uri": "https://localhost:8080/"
        },
        "id": "e9G-8ar_vZAw",
        "outputId": "13200a6c-6ef5-4faa-fdc1-efcb1733db61"
      },
      "execution_count": 50,
      "outputs": [
        {
          "output_type": "execute_result",
          "data": {
            "text/plain": [
              "array([2, 4, 9])"
            ]
          },
          "metadata": {},
          "execution_count": 50
        }
      ]
    },
    {
      "cell_type": "code",
      "source": [
        "dane-one"
      ],
      "metadata": {
        "colab": {
          "base_uri": "https://localhost:8080/"
        },
        "id": "1eA-SdhIvl7o",
        "outputId": "3c68b5ab-8d2c-4dc1-da47-b05b0fdf2872"
      },
      "execution_count": 51,
      "outputs": [
        {
          "output_type": "execute_result",
          "data": {
            "text/plain": [
              "array([0, 2, 7])"
            ]
          },
          "metadata": {},
          "execution_count": 51
        }
      ]
    },
    {
      "cell_type": "code",
      "source": [
        "dane*tw"
      ],
      "metadata": {
        "colab": {
          "base_uri": "https://localhost:8080/"
        },
        "id": "3gTPLB3jvr02",
        "outputId": "48e1aabc-e229-44cb-cdb4-e1898be577b5"
      },
      "execution_count": 52,
      "outputs": [
        {
          "output_type": "execute_result",
          "data": {
            "text/plain": [
              "array([ 2,  6, 24])"
            ]
          },
          "metadata": {},
          "execution_count": 52
        }
      ]
    },
    {
      "cell_type": "code",
      "source": [
        "dane/tw"
      ],
      "metadata": {
        "colab": {
          "base_uri": "https://localhost:8080/"
        },
        "id": "kZLvkAAEv3tG",
        "outputId": "59017aa7-f272-48ba-f90c-2006e8b31034"
      },
      "execution_count": 53,
      "outputs": [
        {
          "output_type": "execute_result",
          "data": {
            "text/plain": [
              "array([0.5       , 1.5       , 2.66666667])"
            ]
          },
          "metadata": {},
          "execution_count": 53
        }
      ]
    },
    {
      "cell_type": "code",
      "source": [
        "arr = np.arange(16).reshape((2,2,4))\n",
        "arr"
      ],
      "metadata": {
        "colab": {
          "base_uri": "https://localhost:8080/"
        },
        "id": "4XUSEp9fwFL7",
        "outputId": "9488b4f5-6227-4bd8-d8e9-3da85ff9c291"
      },
      "execution_count": 54,
      "outputs": [
        {
          "output_type": "execute_result",
          "data": {
            "text/plain": [
              "array([[[ 0,  1,  2,  3],\n",
              "        [ 4,  5,  6,  7]],\n",
              "\n",
              "       [[ 8,  9, 10, 11],\n",
              "        [12, 13, 14, 15]]])"
            ]
          },
          "metadata": {},
          "execution_count": 54
        }
      ]
    },
    {
      "cell_type": "code",
      "source": [
        "arr.transpose((1,0,2))"
      ],
      "metadata": {
        "colab": {
          "base_uri": "https://localhost:8080/"
        },
        "id": "GEtgBTfMwphc",
        "outputId": "548cc4b7-dd46-4fc5-be8b-8a3551d6b53e"
      },
      "execution_count": 55,
      "outputs": [
        {
          "output_type": "execute_result",
          "data": {
            "text/plain": [
              "array([[[ 0,  1,  2,  3],\n",
              "        [ 8,  9, 10, 11]],\n",
              "\n",
              "       [[ 4,  5,  6,  7],\n",
              "        [12, 13, 14, 15]]])"
            ]
          },
          "metadata": {},
          "execution_count": 55
        }
      ]
    },
    {
      "cell_type": "code",
      "source": [
        "arr5 = np.arange(240).reshape((2,2,4,5,3))\n",
        "arr5"
      ],
      "metadata": {
        "colab": {
          "base_uri": "https://localhost:8080/"
        },
        "id": "znaSg4dswmI1",
        "outputId": "c22b0d54-ff83-4c14-e5f2-e0cebba1b49b"
      },
      "execution_count": 56,
      "outputs": [
        {
          "output_type": "execute_result",
          "data": {
            "text/plain": [
              "array([[[[[  0,   1,   2],\n",
              "          [  3,   4,   5],\n",
              "          [  6,   7,   8],\n",
              "          [  9,  10,  11],\n",
              "          [ 12,  13,  14]],\n",
              "\n",
              "         [[ 15,  16,  17],\n",
              "          [ 18,  19,  20],\n",
              "          [ 21,  22,  23],\n",
              "          [ 24,  25,  26],\n",
              "          [ 27,  28,  29]],\n",
              "\n",
              "         [[ 30,  31,  32],\n",
              "          [ 33,  34,  35],\n",
              "          [ 36,  37,  38],\n",
              "          [ 39,  40,  41],\n",
              "          [ 42,  43,  44]],\n",
              "\n",
              "         [[ 45,  46,  47],\n",
              "          [ 48,  49,  50],\n",
              "          [ 51,  52,  53],\n",
              "          [ 54,  55,  56],\n",
              "          [ 57,  58,  59]]],\n",
              "\n",
              "\n",
              "        [[[ 60,  61,  62],\n",
              "          [ 63,  64,  65],\n",
              "          [ 66,  67,  68],\n",
              "          [ 69,  70,  71],\n",
              "          [ 72,  73,  74]],\n",
              "\n",
              "         [[ 75,  76,  77],\n",
              "          [ 78,  79,  80],\n",
              "          [ 81,  82,  83],\n",
              "          [ 84,  85,  86],\n",
              "          [ 87,  88,  89]],\n",
              "\n",
              "         [[ 90,  91,  92],\n",
              "          [ 93,  94,  95],\n",
              "          [ 96,  97,  98],\n",
              "          [ 99, 100, 101],\n",
              "          [102, 103, 104]],\n",
              "\n",
              "         [[105, 106, 107],\n",
              "          [108, 109, 110],\n",
              "          [111, 112, 113],\n",
              "          [114, 115, 116],\n",
              "          [117, 118, 119]]]],\n",
              "\n",
              "\n",
              "\n",
              "       [[[[120, 121, 122],\n",
              "          [123, 124, 125],\n",
              "          [126, 127, 128],\n",
              "          [129, 130, 131],\n",
              "          [132, 133, 134]],\n",
              "\n",
              "         [[135, 136, 137],\n",
              "          [138, 139, 140],\n",
              "          [141, 142, 143],\n",
              "          [144, 145, 146],\n",
              "          [147, 148, 149]],\n",
              "\n",
              "         [[150, 151, 152],\n",
              "          [153, 154, 155],\n",
              "          [156, 157, 158],\n",
              "          [159, 160, 161],\n",
              "          [162, 163, 164]],\n",
              "\n",
              "         [[165, 166, 167],\n",
              "          [168, 169, 170],\n",
              "          [171, 172, 173],\n",
              "          [174, 175, 176],\n",
              "          [177, 178, 179]]],\n",
              "\n",
              "\n",
              "        [[[180, 181, 182],\n",
              "          [183, 184, 185],\n",
              "          [186, 187, 188],\n",
              "          [189, 190, 191],\n",
              "          [192, 193, 194]],\n",
              "\n",
              "         [[195, 196, 197],\n",
              "          [198, 199, 200],\n",
              "          [201, 202, 203],\n",
              "          [204, 205, 206],\n",
              "          [207, 208, 209]],\n",
              "\n",
              "         [[210, 211, 212],\n",
              "          [213, 214, 215],\n",
              "          [216, 217, 218],\n",
              "          [219, 220, 221],\n",
              "          [222, 223, 224]],\n",
              "\n",
              "         [[225, 226, 227],\n",
              "          [228, 229, 230],\n",
              "          [231, 232, 233],\n",
              "          [234, 235, 236],\n",
              "          [237, 238, 239]]]]])"
            ]
          },
          "metadata": {},
          "execution_count": 56
        }
      ]
    },
    {
      "cell_type": "code",
      "source": [
        "# prompt: utwórz wektor o długości 64 i przekształć go w tensor trójwymiarowy o dowolnym układzie\n",
        "\n",
        "import numpy as np\n",
        "\n",
        "# Create a vector of length 64\n",
        "vector = np.arange(64)\n",
        "\n",
        "# Reshape the vector into a 3-dimensional tensor with any desired layout\n",
        "# For example, reshape into a tensor with dimensions (4, 4, 4)\n",
        "tensor = vector.reshape((4, 4, 4))\n",
        "\n",
        "# Print the resulting tensor\n",
        "print(tensor)\n"
      ],
      "metadata": {
        "colab": {
          "base_uri": "https://localhost:8080/"
        },
        "id": "mh_LXRJYxM7d",
        "outputId": "23a5e8ce-d9c6-409e-867e-e512628220c2"
      },
      "execution_count": 58,
      "outputs": [
        {
          "output_type": "stream",
          "name": "stdout",
          "text": [
            "[[[ 0  1  2  3]\n",
            "  [ 4  5  6  7]\n",
            "  [ 8  9 10 11]\n",
            "  [12 13 14 15]]\n",
            "\n",
            " [[16 17 18 19]\n",
            "  [20 21 22 23]\n",
            "  [24 25 26 27]\n",
            "  [28 29 30 31]]\n",
            "\n",
            " [[32 33 34 35]\n",
            "  [36 37 38 39]\n",
            "  [40 41 42 43]\n",
            "  [44 45 46 47]]\n",
            "\n",
            " [[48 49 50 51]\n",
            "  [52 53 54 55]\n",
            "  [56 57 58 59]\n",
            "  [60 61 62 63]]]\n"
          ]
        }
      ]
    }
  ]
}